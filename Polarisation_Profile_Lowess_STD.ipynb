{
 "cells": [
  {
   "cell_type": "code",
   "execution_count": 1,
   "id": "367a4dc5",
   "metadata": {},
   "outputs": [],
   "source": [
    "import pandas as pd\n",
    "import os\n",
    "import glob\n",
    "import numpy as np\n",
    "import pylab as plt\n",
    "import math\n",
    "#from loess import *\n",
    "import matplotlib.pyplot as plt\n",
    "from statsmodels.nonparametric.smoothers_lowess import lowess\n",
    "%matplotlib inline"
   ]
  },
  {
   "cell_type": "code",
   "execution_count": 2,
   "id": "1fc8d270",
   "metadata": {},
   "outputs": [],
   "source": [
    "path_home =  \"C:/Users/fallet/Documents/220818_Remy pour Mathieu_polarisation/Correction outlier\"\n",
    "#os.chdir(path_home)\n",
    "\n",
    "exp1 = \"KO + EBSS\"\n",
    "exp2 = \"KO + iRUFY3 + EBSS\"\n",
    "exp3 = \"KO + iRUFY3 + NT\"\n",
    "exp4 = \"KO + NT\"\n",
    "\n",
    "path_exp1 = \"/KO + EBSS/\"\n",
    "path_exp2 = \"/KO + iRUFY3 + EBSS/\"\n",
    "path_exp3 = \"/KO + iRUFY3 + NT/\"\n",
    "path_exp4 = \"/KO + NT/\"\n",
    "\n",
    "path1 = path_home + path_exp1\n",
    "path2 = path_home + path_exp2\n",
    "path3 = path_home + path_exp3\n",
    "path4 = path_home + path_exp4\n",
    "\n",
    "# take all csv files except with last pattern \"N\" if Normalized files was not deleted\n",
    "csv_files1 = glob.glob(os.path.join(path1, \"*[!N].csv\"))\n",
    "csv_files2 = glob.glob(os.path.join(path2, \"*[!N].csv\"))\n",
    "csv_files3 = glob.glob(os.path.join(path3, \"*[!N].csv\"))\n",
    "csv_files4 = glob.glob(os.path.join(path4, \"*[!N].csv\"))"
   ]
  },
  {
   "cell_type": "code",
   "execution_count": 4,
   "id": "2302846e",
   "metadata": {},
   "outputs": [
    {
     "data": {
      "text/plain": [
       "'\\ny1 = df5[\"Y\"]\\nx = df5[\"X\"]\\nfiltered = lowess(y1, x, is_sorted=True, frac=0.1, it=0)\\n#len(pd.DataFrame (filtered))\\nplt.plot(x, y1, \\'r\\')\\n#plt.plot(filtered[:,0], filtered[:,1], \\'b\\')\\nplt.plot(df5[\"X\"], filtered[:,1], \\'b\\')\\nplt.show()\\n'"
      ]
     },
     "execution_count": 4,
     "metadata": {},
     "output_type": "execute_result"
    }
   ],
   "source": [
    "# test filtrage avec lowess\n",
    "'''\n",
    "y1 = df5[\"Y\"]\n",
    "x = df5[\"X\"]\n",
    "filtered = lowess(y1, x, is_sorted=True, frac=0.1, it=0)\n",
    "#len(pd.DataFrame (filtered))\n",
    "plt.plot(x, y1, 'r')\n",
    "#plt.plot(filtered[:,0], filtered[:,1], 'b')\n",
    "plt.plot(df5[\"X\"], filtered[:,1], 'b')\n",
    "plt.show()\n",
    "'''"
   ]
  },
  {
   "cell_type": "code",
   "execution_count": 18,
   "id": "044ab18d",
   "metadata": {},
   "outputs": [],
   "source": [
    "# filtrage avec Lowes (fract = 0.1, it=0)\n",
    "# centrage du max à 0 (entre -180 et 180 degrés)\n",
    "# normalisation par la somme (conversion en probabilté)\n",
    "\n",
    "df_filtered = pd.DataFrame()\n",
    "\n",
    "def NormalizeFiles(csv_files):\n",
    "    for f in csv_files:\n",
    "        df = pd.read_csv(f)\n",
    "        df.rename(columns={\"X\": \"Angle\", \"Y\": \"Int\"}, inplace=True)\n",
    "        # commenter la ligne suivante pour le calcul du STD sur les valeurs brutes\n",
    "        df[\"Int\"] = lowess(df[\"Int\"], df[\"Angle\"], is_sorted=True, frac=0.1, it=0)[:,1]\n",
    "        sum_Int = df[\"Int\"].sum()\n",
    "        df[\"Int\"] = df[\"Int\"]/sum_Int\n",
    "        max_Angle = df[\"Angle\"][df[\"Int\"].argmax()] \n",
    "        df[\"Angle\"] = df[\"Angle\"]-max_Angle\n",
    "\n",
    "        # modulo to convert to [-180 180] degrés\n",
    "        df.loc[df[\"Angle\"]<(-180), \"Angle\"] = df[\"Angle\"]%180\n",
    "        df.loc[df[\"Angle\"]>(180), \"Angle\"] = df[\"Angle\"]%(-180)\n",
    "        \n",
    "        #Sort Int values by angle index from -180 to 180\n",
    "        df = df.sort_values(by =\"Angle\" )\n",
    "\n",
    "        # save df in directory\n",
    "        temp = os.path.splitext(f)\n",
    "        f = temp[0]\n",
    "        name = f+\"_N.csv\"\n",
    "        if os.path.exists(name):\n",
    "            os.remove(name)\n",
    "        df.to_csv(name) "
   ]
  },
  {
   "cell_type": "code",
   "execution_count": 19,
   "id": "e08859a7",
   "metadata": {},
   "outputs": [],
   "source": [
    "NormalizeFiles(csv_files1)\n",
    "NormalizeFiles(csv_files2)\n",
    "NormalizeFiles(csv_files3)\n",
    "NormalizeFiles(csv_files4)"
   ]
  },
  {
   "cell_type": "code",
   "execution_count": 20,
   "id": "0579f735",
   "metadata": {},
   "outputs": [],
   "source": [
    "csv_files1_N = glob.glob(os.path.join(path1, \"*_N.csv\"))\n",
    "csv_files2_N = glob.glob(os.path.join(path2, \"*_N.csv\"))\n",
    "csv_files3_N = glob.glob(os.path.join(path3, \"*_N.csv\"))\n",
    "csv_files4_N = glob.glob(os.path.join(path4, \"*_N.csv\"))"
   ]
  },
  {
   "cell_type": "code",
   "execution_count": 21,
   "id": "760d69d5",
   "metadata": {},
   "outputs": [],
   "source": [
    "# std dev calcul après centrage à 0 et normalisation/la somme \n",
    "# E[X] = Sum (x_i * p(x_i)) \n",
    "# avec x_i c'est l'angle et p(x_i) c'est la valeur \n",
    "# Var(X) = Sum( x_i^2 * p(x_i))  - E[X]^2\n",
    "# std = sqrt( Var[X])\n",
    "\n",
    "def StdDev(csv_files_N):\n",
    "    # esperance puis variance\n",
    "    std_all = []\n",
    "    for f in csv_files_N:\n",
    "        df = pd.read_csv(f)\n",
    "        xi = df['Angle']\n",
    "        pi = df['Int']\n",
    "        df['Esperance'] = xi * pi\n",
    "        Esperance = df['Esperance'].sum()\n",
    "        #print(\"esperance=\"+str(Esperance))\n",
    "        df['Xi2*pi'] = xi*xi*pi\n",
    "        Somme = df['Xi2*pi'].sum()\n",
    "        var = Somme - Esperance*Esperance\n",
    "        std = math.sqrt(abs(var))\n",
    "        #print(std)\n",
    "        std_all.append(std)\n",
    "    std_all = pd.DataFrame(std_all, columns=['Std'])\n",
    "       \n",
    "    # write std dev file\n",
    "    temp = os.path.splitext(f)\n",
    "    f = temp[0]\n",
    "    name = f+\"_StdDev.csv\"\n",
    "    if os.path.exists(name):\n",
    "       os.remove(name)\n",
    "    std_all.to_csv(name)  "
   ]
  },
  {
   "cell_type": "code",
   "execution_count": 22,
   "id": "70028029",
   "metadata": {},
   "outputs": [],
   "source": [
    "StdDev(csv_files1_N)\n",
    "StdDev(csv_files2_N)\n",
    "StdDev(csv_files3_N)\n",
    "StdDev(csv_files4_N)"
   ]
  },
  {
   "cell_type": "code",
   "execution_count": 23,
   "id": "61e0dbbb",
   "metadata": {},
   "outputs": [],
   "source": [
    "def MeanProfile(csv_files_N,path_out,exp):\n",
    "    \n",
    "    angle = np.arange(-180, 180, 1)\n",
    "    df_mean = pd.DataFrame({\"Angle\":angle})\n",
    "    df_all = pd.DataFrame()\n",
    "\n",
    "    for f in csv_files_N:\n",
    "        df = pd.read_csv(f)\n",
    "        df = df['Int']\n",
    "        \n",
    "        # concatenate df in X \n",
    "        df_all = pd.concat([df_all,df], axis=1)\n",
    "        \n",
    "    # make the mean of all row\n",
    "    mean = df_all.mean(axis = 1)\n",
    "    # create a column \"Int\" and put the values mean\n",
    "    df_mean[\"Int\"] = mean\n",
    "        \n",
    "    # Normalize in Intensity\n",
    "    #sum_Int = df_mean['Int'].sum()\n",
    "    #df_mean['Int'] = df_mean['Int']*100/sum_Int    \n",
    "        \n",
    "    # save mean profile\n",
    "    name = path_out+exp+\"_mean_N.csv\"\n",
    "    if os.path.exists(name):\n",
    "        os.remove(name)\n",
    "    df_mean.to_csv(name)"
   ]
  },
  {
   "cell_type": "code",
   "execution_count": 24,
   "id": "359da722",
   "metadata": {},
   "outputs": [],
   "source": [
    "MeanProfile(csv_files1_N, path1, exp1)\n",
    "MeanProfile(csv_files2_N, path2, exp2)\n",
    "MeanProfile(csv_files3_N, path3, exp3)\n",
    "MeanProfile(csv_files4_N, path4, exp4)"
   ]
  },
  {
   "cell_type": "code",
   "execution_count": 25,
   "id": "8b8ec543",
   "metadata": {},
   "outputs": [],
   "source": [
    "df_mean_1 = pd.read_csv(path1 + exp1 +\"_mean_N.csv\")\n",
    "df_mean_2 = pd.read_csv(path2 + exp2 +\"_mean_N.csv\")\n",
    "df_mean_3 = pd.read_csv(path3 + exp3 +\"_mean_N.csv\")\n",
    "df_mean_4 = pd.read_csv(path4 + exp4 +\"_mean_N.csv\")"
   ]
  },
  {
   "cell_type": "code",
   "execution_count": 31,
   "id": "3895d9a5",
   "metadata": {},
   "outputs": [
    {
     "data": {
      "image/png": "[encoded data removed]",
      "text/plain": [
       "<Figure size 432x288 with 1 Axes>"
      ]
     },
     "metadata": {
      "needs_background": "light"
     },
     "output_type": "display_data"
    }
   ],
   "source": [
    "# overlay curves\n",
    "Y1 = df_mean_1['Int']\n",
    "Y2 = df_mean_2['Int']\n",
    "Y3 = df_mean_3['Int']\n",
    "Y4 = df_mean_4['Int']\n",
    "\n",
    "X = angle = np.arange(-180, 180, 1)\n",
    "\n",
    "plt.plot(X, Y1, label = \"KO + EBSS\")\n",
    "plt.plot(X, Y2, label = \"KO + iRUFY3 + EBSS\")\n",
    "plt.plot(X, Y3, label = \"KO + iRUFY3 + NT\")\n",
    "plt.plot(X, Y4, label = \"KO  + NT\")\n",
    "\n",
    "plt.tight_layout()\n",
    "plt.xlabel(\"Angle\")\n",
    "plt.ylabel(\"Intensity\")\n",
    "plt.legend()\n",
    "plt.savefig('Superposition.png',dpi=600)\n",
    "plt.show()"
   ]
  },
  {
   "cell_type": "code",
   "execution_count": 28,
   "id": "8a3da50b",
   "metadata": {},
   "outputs": [],
   "source": [
    "# bin profile\n",
    "# bin=30\n",
    "# 360/30 =12 valeurs\n",
    "\n",
    "def BinProfile(df_mean, path_out,exp):\n",
    "    bin1 = np.zeros((12,30))\n",
    "    b = pd.DataFrame()\n",
    "\n",
    "    # Bin mean (bin=30)\n",
    "    b = df_mean['Int'].tolist()              \n",
    "    for i in range (0,360,30):\n",
    "        k=int(i/30)\n",
    "        mean=(b[i] + b[i+1] + b[i+2] + b[i+3] + b[i+4] + b[i+5] + b[i+6] + b[i+7] + b[i+8] + b[i+9] + b[i+10] + b[i+11] + b[i+12] + b[i+13] + b[i+14] + b[i+15] + b[i+16] + b[i+17] + b[i+18] + b[i+19] + b[i+20] + b[i+21] + b[i+22] + b[i+23] + b[i+24] + b[i+25] + b[i+26] + b[i+27] + b[i+28] + b[i+29])/30\n",
    "        for j in range(30):\n",
    "            bin1[k,j]=mean\n",
    "    bin1 = pd.DataFrame(bin1)\n",
    "    #bin1.rename(columns={\"0\": \"Int\"}, inplace=True)\n",
    "    #print(\"Bin Mean: \\n\",bin1)\n",
    "    #plt.plot(bin1)\n",
    "    #bin1.shape()\n",
    "    #sum_Int = bin1.sum()\n",
    "    #bin1 = bin1*100/sum_Int  \n",
    "    \n",
    "    # save bin profile\n",
    "    name = path_out+exp+\"_mean_bin_N.csv\"\n",
    "    if os.path.exists(name):\n",
    "        os.remove(name)\n",
    "    bin1.to_csv(name)\n",
    " "
   ]
  },
  {
   "cell_type": "code",
   "execution_count": 29,
   "id": "c226a6fb",
   "metadata": {},
   "outputs": [],
   "source": [
    "BinProfile(df_mean_1,path1,exp1)\n",
    "BinProfile(df_mean_2,path2,exp2)\n",
    "BinProfile(df_mean_3,path3,exp3)\n",
    "BinProfile(df_mean_4,path4,exp4)\n",
    "\n",
    "df_mean_1_bin = pd.read_csv(path1 + exp1 +\"_mean_bin_N.csv\")\n",
    "df_mean_2_bin = pd.read_csv(path2 + exp2 +\"_mean_bin_N.csv\")\n",
    "df_mean_3_bin = pd.read_csv(path3 + exp3 +\"_mean_bin_N.csv\")\n",
    "df_mean_4_bin = pd.read_csv(path4 + exp4 +\"_mean_bin_N.csv\")\n",
    "#df_mean_5_bin = pd.read_csv(path5 + exp5 +\"_mean_bin_N.csv\")"
   ]
  },
  {
   "cell_type": "code",
   "execution_count": 30,
   "id": "0508de4f",
   "metadata": {},
   "outputs": [
    {
     "data": {
      "image/png": "[encoded data removed]",
      "text/plain": [
       "<Figure size 432x288 with 1 Axes>"
      ]
     },
     "metadata": {
      "needs_background": "light"
     },
     "output_type": "display_data"
    }
   ],
   "source": [
    "# overlay bin curves\n",
    "Y1 = df_mean_1_bin['0']\n",
    "Y2 = df_mean_2_bin['0']\n",
    "Y3 = df_mean_3_bin['0']\n",
    "Y4 = df_mean_4_bin['0']\n",
    "#Y5 = df_mean_5['Int']\n",
    "\n",
    "#X = df_mean_1['Angle']\n",
    "X = angle = np.arange(-180, 180, 30)\n",
    "\n",
    "fig = plt.figure()\n",
    "plt.plot(X, Y1, label = \"KO + EBSS\")\n",
    "plt.plot(X, Y2, label = \"KO + iRUFY3 + EBSS\")\n",
    "plt.plot(X, Y3, label = \"KO + iRUFY3 + NT\")\n",
    "plt.plot(X, Y4, label = \"KO  + NT\")\n",
    "#plt.plot(X, Y5, label = \"Test\")\n",
    "\n",
    "plt.tight_layout()\n",
    "#plt.xlabel(\"Angle\")\n",
    "#plt.ylabel(\"Intensity\")\n",
    "plt.legend()\n",
    "plt.savefig('Superposition.png',dpi=600)\n",
    "plt.show()"
   ]
  },
  {
   "cell_type": "code",
   "execution_count": null,
   "id": "f84a05a6",
   "metadata": {},
   "outputs": [],
   "source": [
    "# Fit Y0\n",
    "import matplotlib.pyplot as plt\n",
    "from scipy import asarray as ar, exp, sqrt\n",
    "from scipy.optimize import curve_fit\n",
    "\n",
    "angles = ar(X)\n",
    "data = ar(Y4)\n",
    "\n",
    "n = len(data)  \n",
    "mean = sum(data*angles)/n\n",
    "sigma = sqrt(sum(data*(angles-mean)**2)/n)\n",
    "#a = 18\n",
    "Y0 = 10\n",
    "\n",
    "def gaus(x,a,mu,sigma,Y0):\n",
    "    return Y0 + a*exp(-(x-mu)**2/(2*sigma**2))\n",
    "\n",
    "popt,pcov = curve_fit(gaus,angles,data)#,p0=[0.18,mean,sigma])  ## <--- leave out the first estimation of the parameters\n",
    "xx = np.linspace( -180, 180, 10 )  ## <--- calculate against a continuous variable\n",
    "print(\"Y0=\"+str(popt[3]))"
   ]
  },
  {
   "cell_type": "code",
   "execution_count": null,
   "id": "21b9eeb2",
   "metadata": {},
   "outputs": [],
   "source": [
    "fig = plt.figure()\n",
    "plt.plot(angles, data, \"ob\", label = \"Measured\")\n",
    "plt.plot(xx,gaus(xx,*popt),'r',label='Fit')  ## <--- plot against the contious variable\n",
    "plt.xlim(-180, 180)\n",
    "plt.ylim(0, 100)\n",
    "plt.xticks(angles)\n",
    "plt.title(\"\")\n",
    "plt.xlabel(\"Angle\")\n",
    "plt.ylabel(\"Int\")\n",
    "plt.grid()\n",
    "plt.legend()\n",
    "#plt.savefig('normal.png')\n",
    "plt.show()"
   ]
  },
  {
   "cell_type": "code",
   "execution_count": null,
   "id": "3bb9e372",
   "metadata": {},
   "outputs": [],
   "source": []
  }
 ],
 "metadata": {
  "celltoolbar": "Aucun(e)",
  "kernelspec": {
   "display_name": "Python 3 (ipykernel)",
   "language": "python",
   "name": "python3"
  },
  "language_info": {
   "codemirror_mode": {
    "name": "ipython",
    "version": 3
   },
   "file_extension": ".py",
   "mimetype": "text/x-python",
   "name": "python",
   "nbconvert_exporter": "python",
   "pygments_lexer": "ipython3",
   "version": "3.9.12"
  }
 },
 "nbformat": 4,
 "nbformat_minor": 5
}
